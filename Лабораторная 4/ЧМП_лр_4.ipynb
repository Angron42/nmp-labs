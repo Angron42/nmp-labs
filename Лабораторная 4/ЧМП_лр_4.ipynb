{
 "cells": [
  {
   "cell_type": "code",
   "execution_count": 81,
   "id": "4d519164",
   "metadata": {},
   "outputs": [
    {
     "name": "stdout",
     "output_type": "stream",
     "text": [
      "[[1 2 3]\n",
      " [4 5 6]\n",
      " [7 8 9]]\n",
      "[[1 2 3]\n",
      " [4 5 6]\n",
      " [7 8 9]]\n"
     ]
    }
   ],
   "source": [
    "import numpy as np\n",
    "m_sqr_arr = np.array([[1, 2, 3], [4, 5, 6], [7, 8, 9]]) #Задаємо матрицю 3*3\n",
    "print(m_sqr_arr)\n",
    "m_sqr_mx = np.matrix([[1, 2, 3], [4, 5, 6], [7, 8, 9]]) #Ще один варіант як задати матрицю\n",
    "print(m_sqr_mx)"
   ]
  },
  {
   "cell_type": "code",
   "execution_count": 52,
   "id": "0c7a3f00",
   "metadata": {},
   "outputs": [
    {
     "name": "stdout",
     "output_type": "stream",
     "text": [
      "[1 5 9]\n"
     ]
    }
   ],
   "source": [
    "#Побудуємо діагональ\n",
    "m_sqr_mx = np.matrix('1 2 3; 4 5 6; 7 8 9')\n",
    "diag = np.diag(m_sqr_mx)\n",
    "print(diag)"
   ]
  },
  {
   "cell_type": "code",
   "execution_count": 53,
   "id": "d506c104",
   "metadata": {},
   "outputs": [
    {
     "name": "stdout",
     "output_type": "stream",
     "text": [
      "[[1 0 0]\n",
      " [0 5 0]\n",
      " [0 0 9]]\n"
     ]
    }
   ],
   "source": [
    "#Побудуємо діагональну матрицю на базі полученої діагоналі\n",
    "m_diag_np = np.diag(np.diag(m_sqr_mx))\n",
    "print(m_diag_np)\n",
    "\n",
    "        \n",
    "    "
   ]
  },
  {
   "cell_type": "code",
   "execution_count": 54,
   "id": "a291bbb2",
   "metadata": {},
   "outputs": [
    {
     "name": "stdout",
     "output_type": "stream",
     "text": [
      "A= [[1 2 3]\n",
      " [4 5 6]]\n",
      "[[1 4]\n",
      " [2 5]\n",
      " [3 6]]\n"
     ]
    }
   ],
   "source": [
    "#Транспонована матриця\n",
    "a = np.matrix('1 2 3; 4 5 6')\n",
    "print('A=',a)\n",
    "a_t = a.transpose()\n",
    "print(a_t)\n",
    "    "
   ]
  },
  {
   "cell_type": "code",
   "execution_count": 56,
   "id": "fa784d44",
   "metadata": {},
   "outputs": [
    {
     "name": "stdout",
     "output_type": "stream",
     "text": [
      "[[1 4]\n",
      " [2 5]\n",
      " [3 6]]\n"
     ]
    }
   ],
   "source": [
    "print(a.T) # ще один способ транспонування матриці"
   ]
  },
  {
   "cell_type": "code",
   "execution_count": 58,
   "id": "d720bd41",
   "metadata": {},
   "outputs": [
    {
     "name": "stdout",
     "output_type": "stream",
     "text": [
      "-2\n"
     ]
    }
   ],
   "source": [
    "a = np.matrix('1 2; 3 4')\n",
    "a_det = np.linalg.det(a) #Визначник матриці\n",
    "print(format(a_det, '.9g'))\n"
   ]
  },
  {
   "cell_type": "code",
   "execution_count": 66,
   "id": "4414faee",
   "metadata": {},
   "outputs": [
    {
     "name": "stdout",
     "output_type": "stream",
     "text": [
      "[[ 3  6  9]\n",
      " [12 15 18]]\n"
     ]
    }
   ],
   "source": [
    "#Множення матриці на число \n",
    "a = np.matrix('1 2 3; 4 5 6')\n",
    "c = 3 * a\n",
    "print(c)\n"
   ]
  },
  {
   "cell_type": "code",
   "execution_count": 67,
   "id": "4ce6d561",
   "metadata": {},
   "outputs": [
    {
     "name": "stdout",
     "output_type": "stream",
     "text": [
      "[[ 9  7  8]\n",
      " [14 11 19]]\n"
     ]
    }
   ],
   "source": [
    "#Додавання матриць\n",
    "a = np.matrix('1 6 3; 8 2 7')\n",
    "b = np.matrix('8 1 5; 6 9 12')\n",
    "c = a + b\n",
    "print(c)"
   ]
  },
  {
   "cell_type": "code",
   "execution_count": 68,
   "id": "656ddb4a",
   "metadata": {},
   "outputs": [
    {
     "name": "stdout",
     "output_type": "stream",
     "text": [
      "[[31 19]\n",
      " [85 55]]\n"
     ]
    }
   ],
   "source": [
    "#Добуток матриць\n",
    "a = np.matrix('1 2 3; 4 5 6')\n",
    "b = np.matrix('7 8; 9 1; 2 3')\n",
    "c = a.dot(b)\n",
    "print(c)\n"
   ]
  },
  {
   "cell_type": "code",
   "execution_count": 69,
   "id": "b71a2d58",
   "metadata": {},
   "outputs": [
    {
     "name": "stdout",
     "output_type": "stream",
     "text": [
      "[[-4 -1  2]\n",
      " [10  4 -1]\n",
      " [ 8  3  1]]\n"
     ]
    },
    {
     "data": {
      "text/plain": [
       "-14.000000000000009"
      ]
     },
     "execution_count": 69,
     "metadata": {},
     "output_type": "execute_result"
    }
   ],
   "source": [
    "#детермінант (визначник матриці)\n",
    "a = np.matrix('-4 -1 2; 10 4 -1; 8 3 1')\n",
    "print(a)\n",
    "np.linalg.det(a)\n"
   ]
  },
  {
   "cell_type": "code",
   "execution_count": null,
   "id": "84ff962a",
   "metadata": {},
   "outputs": [
    {
     "name": "stdout",
     "output_type": "stream",
     "text": [
      "[[ 0.45454545  0.27272727]\n",
      " [-0.18181818  0.09090909]]\n"
     ]
    }
   ],
   "source": [
    "# Обернена матриця\n",
    "a = np.matrix('1 -3; 2 5')\n",
    "a_inv = np.linalg.inv(a)\n",
    "print(a_inv)"
   ]
  },
  {
   "cell_type": "code",
   "execution_count": 71,
   "id": "f472c5d1",
   "metadata": {},
   "outputs": [
    {
     "name": "stdout",
     "output_type": "stream",
     "text": [
      "2\n"
     ]
    }
   ],
   "source": [
    "#Ранг матриці\n",
    "rank = np.linalg.matrix_rank(a)\n",
    "print(rank)\n"
   ]
  },
  {
   "cell_type": "code",
   "execution_count": 72,
   "id": "21860ba1",
   "metadata": {},
   "outputs": [
    {
     "name": "stdout",
     "output_type": "stream",
     "text": [
      "A= [[ 3 -1  2]\n",
      " [ 1  4 -1]\n",
      " [ 2  3  1]]\n",
      "B= [[-4]\n",
      " [10]\n",
      " [ 8]]\n",
      "[[ 0.5         0.5        -0.5       ]\n",
      " [-0.21428571 -0.07142857  0.35714286]\n",
      " [-0.35714286 -0.78571429  0.92857143]]\n",
      "X= [[-1.]\n",
      " [ 3.]\n",
      " [ 1.]]\n"
     ]
    }
   ],
   "source": [
    "#Матричний метод\n",
    "a = np.matrix('3 -1 2; 1 4 -1; 2 3 1')\n",
    "b = np.matrix('-4; 10; 8')\n",
    "print('A=', a)\n",
    "print('B=',b)\n",
    "a_inv = np.linalg.inv(a)\n",
    "print(a_inv)\n",
    "x = a_inv.dot(b)\n",
    "print('X=',x)\n",
    "\n"
   ]
  },
  {
   "cell_type": "code",
   "execution_count": 85,
   "id": "a9f40d3f",
   "metadata": {},
   "outputs": [
    {
     "name": "stdout",
     "output_type": "stream",
     "text": [
      "A= [[ 3 -1  2]\n",
      " [ 1  4 -1]\n",
      " [ 2  3  1]]\n",
      "B= [[-4]\n",
      " [10]\n",
      " [ 8]]\n",
      "Детермінант матриці =  13.999999999999996\n",
      "Розв*язуємо систему\n",
      "x_m= [[-4 -1  2]\n",
      " [10  4 -1]\n",
      " [ 8  3  1]]\n",
      "y_m= [[ 3 -4  2]\n",
      " [ 1 10 -1]\n",
      " [ 2  8  1]]\n",
      "z_m= [[ 3 -1 -4]\n",
      " [ 1  4 10]\n",
      " [ 2  3  8]]\n",
      "X =  -1.0\n",
      "Y= 3.0\n",
      "Z= 1.0\n"
     ]
    }
   ],
   "source": [
    "#Метод Крамера\n",
    "a = np.matrix('3 -1 2; 1 4 -1; 2 3 1')\n",
    "print('A=',a)\n",
    "b = np.matrix('-4; 10; 8')\n",
    "print('B=',b)\n",
    "\n",
    "def kramer (a, b):\n",
    "    a_det = np.linalg.det(A)\n",
    "    print('Детермінант матриці = ', a_det)\n",
    "#Зробити реревірку,що детермінант не дорівнює нулю\n",
    "    if (a_det != 0):\n",
    "        print ('Розв*язуємо систему')\n",
    "        \n",
    "        x_m = np.matrix(a)\n",
    "        x_m[:, 0] = b # 1 cт. замінюємо на  ст.b\n",
    "        print('x_m=', x_m)\n",
    "        y_m = np.matrix(a)\n",
    "        y_m[:, 1] = b # 2 cт. замінюємо на  ст.b\n",
    "        print('y_m=',y_m)\n",
    "\n",
    "        z_m = np.matrix(a)\n",
    "        z_m[:, 2] = b # 3 cт. замінюємо на  ст.b\n",
    "        print('z_m=',z_m)\n",
    "\n",
    "        x = np.linalg.det(x_m) / a_det\n",
    "        y = np.linalg.det(y_m) / a_det\n",
    "        z = np.linalg.det(z_m) / a_det\n",
    "        print('X = ', round(x,5))\n",
    "\n",
    "        print('Y=', round(y,5))\n",
    "\n",
    "        print('Z=', round(z,5))\n",
    "    else:\n",
    "        print('Розв*язків немає')\n",
    "kramer(a,b)\n"
   ]
  },
  {
   "cell_type": "code",
   "execution_count": 80,
   "id": "4588d748",
   "metadata": {},
   "outputs": [
    {
     "name": "stdout",
     "output_type": "stream",
     "text": [
      "Перевірка X= [[-1.]\n",
      " [ 3.]\n",
      " [ 1.]]\n"
     ]
    }
   ],
   "source": [
    "#Перевірка за допомогою  solve() пакету linalg:\n",
    "X = np.linalg.solve(a, b)\n",
    "print('Перевірка X=',X)"
   ]
  },
  {
   "cell_type": "code",
   "execution_count": null,
   "id": "ed58eaf9",
   "metadata": {},
   "outputs": [],
   "source": [
    "\n"
   ]
  },
  {
   "cell_type": "code",
   "execution_count": null,
   "id": "b37ffbdc",
   "metadata": {},
   "outputs": [],
   "source": []
  },
  {
   "cell_type": "code",
   "execution_count": null,
   "id": "717878c0",
   "metadata": {},
   "outputs": [],
   "source": []
  },
  {
   "cell_type": "code",
   "execution_count": null,
   "id": "e0cde7db",
   "metadata": {},
   "outputs": [],
   "source": []
  },
  {
   "cell_type": "code",
   "execution_count": null,
   "id": "0ed36cbd",
   "metadata": {},
   "outputs": [],
   "source": []
  },
  {
   "cell_type": "code",
   "execution_count": null,
   "id": "8c4588db",
   "metadata": {},
   "outputs": [],
   "source": []
  }
 ],
 "metadata": {
  "kernelspec": {
   "display_name": "Python 3.10.4 64-bit",
   "language": "python",
   "name": "python3"
  },
  "language_info": {
   "codemirror_mode": {
    "name": "ipython",
    "version": 3
   },
   "file_extension": ".py",
   "mimetype": "text/x-python",
   "name": "python",
   "nbconvert_exporter": "python",
   "pygments_lexer": "ipython3",
   "version": "3.10.4"
  },
  "vscode": {
   "interpreter": {
    "hash": "5312a05d4c1062e7e99dc4a1327331a73c17135ec320657c0e8e8843948bfa85"
   }
  }
 },
 "nbformat": 4,
 "nbformat_minor": 5
}
